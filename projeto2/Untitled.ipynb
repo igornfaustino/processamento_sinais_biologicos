{
 "cells": [
  {
   "cell_type": "markdown",
   "metadata": {},
   "source": [
    "# Projeto 2"
   ]
  },
  {
   "cell_type": "markdown",
   "metadata": {},
   "source": [
    "### Dependencias"
   ]
  },
  {
   "cell_type": "code",
   "execution_count": null,
   "metadata": {},
   "outputs": [],
   "source": []
  },
  {
   "cell_type": "markdown",
   "metadata": {},
   "source": [
    "### Carregando base de dados\n",
    "\n",
    "- Removendo dados faltantes"
   ]
  },
  {
   "cell_type": "code",
   "execution_count": 8,
   "metadata": {},
   "outputs": [
    {
     "name": "stdout",
     "output_type": "stream",
     "text": [
      "['0', '-30338.71', '-46319.45', '-30416.03', '-26540.46', '-28678.63', '-27051.31', '-187500.02', '-187500.02', '0.394', '0.022', '0.336', '01:10:56.038\\n']\n"
     ]
    }
   ],
   "source": [
    "eeg_data = []\n",
    "sample_rate = 256\n",
    "\n",
    "with open(\"OpenBCI-RAW-2019-06-07_01-09-36.txt\") as data:\n",
    "#   Ignorando cabecalho do arquivo\n",
    "    for i in range(6):\n",
    "        data.readline()\n",
    "    \n",
    "#   lendo dados\n",
    "    one_sec_data = []\n",
    "    last_index = 0\n",
    "    \n",
    "    for line in data:\n",
    "        line_tok = line.split(\", \")\n",
    "        index = int(line_tok[0])\n",
    "        \n",
    "        if (last_index > index)\n",
    "            if(len(one_sec_data) == sample_rate):\n",
    "                eeg_data += one_sec_data\n",
    "            one_sec_data = []\n",
    "            \n",
    "        last_index = index\n",
    "        one_sec_data.append(line_tok[1:7])\n",
    "\n",
    "len(eeg_data)"
   ]
  }
 ],
 "metadata": {
  "kernelspec": {
   "display_name": "Python 3",
   "language": "python",
   "name": "python3"
  },
  "language_info": {
   "codemirror_mode": {
    "name": "ipython",
    "version": 3
   },
   "file_extension": ".py",
   "mimetype": "text/x-python",
   "name": "python",
   "nbconvert_exporter": "python",
   "pygments_lexer": "ipython3",
   "version": "3.6.8"
  }
 },
 "nbformat": 4,
 "nbformat_minor": 2
}
