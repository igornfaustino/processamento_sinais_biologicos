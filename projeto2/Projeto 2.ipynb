{
 "cells": [
  {
   "cell_type": "markdown",
   "metadata": {},
   "source": [
    "# Projeto 2"
   ]
  },
  {
   "cell_type": "markdown",
   "metadata": {},
   "source": [
    "### Dependencias"
   ]
  },
  {
   "cell_type": "code",
   "execution_count": 1,
   "metadata": {},
   "outputs": [],
   "source": [
    "import time\n",
    "import numpy as np\n",
    "import mne\n",
    "from mne.time_frequency import psd_welch as psd\n",
    "import matplotlib.pyplot as plt"
   ]
  },
  {
   "cell_type": "markdown",
   "metadata": {},
   "source": [
    "### Configuração"
   ]
  },
  {
   "cell_type": "code",
   "execution_count": 2,
   "metadata": {},
   "outputs": [],
   "source": [
    "sample_rate = 256\n",
    "buffer_size_in_secs = 3\n",
    "update_after_secs = 1"
   ]
  },
  {
   "cell_type": "markdown",
   "metadata": {},
   "source": [
    "### Carregando base de dados\n",
    "\n",
    "- Removendo dados faltantes"
   ]
  },
  {
   "cell_type": "code",
   "execution_count": 19,
   "metadata": {},
   "outputs": [],
   "source": [
    "eeg_data = []\n",
    "\n",
    "i = 0\n",
    "j = 0\n",
    "# with open(\"OpenBCI-RAW-2019-06-07_00-37-39.txt\") as data:\n",
    "# with open(\"OpenBCI-RAW-2019-06-07_01-09-36.txt\") as data:\n",
    "with open(\"OpenBCI-RAW-2019-06-07_14-21-59.txt\") as data:\n",
    "    # Ignorando cabecalho do arquivo\n",
    "    for i in range(6):\n",
    "        data.readline()\n",
    "    \n",
    "    # lendo dados\n",
    "    one_sec_data = []\n",
    "    last_index = 0\n",
    "    \n",
    "    for line in data:\n",
    "        line_tok = line.split(\", \")\n",
    "        index = int(line_tok[0])\n",
    "        \n",
    "        if (last_index > index):\n",
    "            i += 1\n",
    "            if(len(one_sec_data) == sample_rate):\n",
    "                j += 1\n",
    "                eeg_data += one_sec_data\n",
    "            one_sec_data = []\n",
    "            \n",
    "        last_index = index\n",
    "        one_sec_data.append(list(map(lambda n : float(n), line_tok[1:7])))"
   ]
  },
  {
   "cell_type": "markdown",
   "metadata": {},
   "source": [
    "### Convertendo um valor para uma escala entre 0 e 100"
   ]
  },
  {
   "cell_type": "code",
   "execution_count": 4,
   "metadata": {},
   "outputs": [],
   "source": [
    "def scala100(maxValue, minValue):\n",
    "    return minValue*100/maxValue"
   ]
  },
  {
   "cell_type": "markdown",
   "metadata": {},
   "source": [
    "### Definindo função para realizar o processamento"
   ]
  },
  {
   "cell_type": "code",
   "execution_count": 12,
   "metadata": {},
   "outputs": [],
   "source": [
    "def process(raw, tmin, tmax):\n",
    "    bands = [0, 0, 0, 0]\n",
    "    \n",
    "    alpha, _freqs = psd(raw, tmin=tmin, tmax=tmax, fmin=8, fmax=12, verbose=False)\n",
    "    bands[0]= np.average(alpha)\n",
    "          \n",
    "    theta, _freqs = psd(raw, tmin=tmin, tmax=tmax, fmin=5, fmax=7, verbose=False)\n",
    "    bands[1]= np.average(theta)\n",
    "    \n",
    "    beta, _freqs = psd(raw, tmin=tmin, tmax=tmax, fmin=12, fmax=30, verbose=False)\n",
    "    bands[2] = np.average(beta)\n",
    "    \n",
    "    gamma, _freqs = psd(raw, tmin=tmin, tmax=tmax, fmin=25, fmax=100, verbose=False)\n",
    "    bands[3] = np.average(gamma)\n",
    "    \n",
    "    maxIndex = np.argmax(bands)\n",
    "    \n",
    "    if (maxIndex == 0):\n",
    "        secondMaxIndex = np.argmax(bands[1:])+1\n",
    "        maxValue = bands[maxIndex]\n",
    "        minValue = bands[secondMaxIndex]\n",
    "        print(scala100(maxValue, minValue))\n",
    "    else:\n",
    "        print(0)\n",
    "        "
   ]
  },
  {
   "cell_type": "markdown",
   "metadata": {},
   "source": [
    "## Aplicando bandpass aos dados"
   ]
  },
  {
   "cell_type": "code",
   "execution_count": 20,
   "metadata": {},
   "outputs": [
    {
     "name": "stdout",
     "output_type": "stream",
     "text": [
      "Creating RawArray with float64 data, n_channels=6, n_times=60160\n",
      "    Range : 0 ... 60159 =      0.000 ...   234.996 secs\n",
      "Ready.\n",
      "Setting up band-pass filter from 5 - 50 Hz\n",
      "l_trans_bandwidth chosen to be 2.0 Hz\n",
      "h_trans_bandwidth chosen to be 12.5 Hz\n",
      "Filter length of 423 samples (1.652 sec) selected\n",
      "Setting up band-pass filter from 5 - 50 Hz\n",
      "l_trans_bandwidth chosen to be 2.0 Hz\n",
      "h_trans_bandwidth chosen to be 12.5 Hz\n",
      "Filter length of 423 samples (1.652 sec) selected\n",
      "Setting up band-pass filter from 5 - 50 Hz\n",
      "l_trans_bandwidth chosen to be 2.0 Hz\n",
      "h_trans_bandwidth chosen to be 12.5 Hz\n",
      "Filter length of 423 samples (1.652 sec) selected\n"
     ]
    },
    {
     "data": {
      "text/plain": [
       "<RawArray  |  None, n_channels x n_times : 6 x 60160 (235.0 sec), ~2.8 MB, data loaded>"
      ]
     },
     "execution_count": 20,
     "metadata": {},
     "output_type": "execute_result"
    }
   ],
   "source": [
    "%matplotlib inline  \n",
    "\n",
    "np_data = np.array(eeg_data).T\n",
    "info = mne.create_info(ch_names=(\"po3\", \"po4\", \"p8\", \"o1\", \"o2\", \"p7\"), sfreq=sample_rate, ch_types=[\"eeg\" for i in range(6)])\n",
    "\n",
    "raw = mne.io.RawArray(np_data, info)\n",
    "raw.filter(l_freq=5, h_freq=50)\n",
    "raw.filter(l_freq=5, h_freq=50)\n",
    "raw.filter(l_freq=5, h_freq=50)"
   ]
  },
  {
   "cell_type": "markdown",
   "metadata": {},
   "source": [
    "## Plotar janelas de exemplo onde o alpha é a maior frequencia"
   ]
  },
  {
   "cell_type": "markdown",
   "metadata": {},
   "source": [
    "- entre 22 segundos e 25"
   ]
  },
  {
   "cell_type": "code",
   "execution_count": 7,
   "metadata": {},
   "outputs": [
    {
     "name": "stdout",
     "output_type": "stream",
     "text": [
      "Effective window size : 1.000 (s)\n"
     ]
    },
    {
     "data": {
      "image/png": "[encoded data removed]",
      "text/plain": [
       "<Figure size 432x288 with 1 Axes>"
      ]
     },
     "metadata": {
      "needs_background": "light"
     },
     "output_type": "display_data"
    }
   ],
   "source": [
    "psds, freqs = psd(raw, tmin=22, tmax=25, fmax=30)\n",
    "psd_Average = np.average(psds, axis=0) ** 2\n",
    "plt.plot(freqs, psd_Average)\n",
    "plt.show()"
   ]
  },
  {
   "cell_type": "markdown",
   "metadata": {},
   "source": [
    "- entre 44 segundos e 47"
   ]
  },
  {
   "cell_type": "code",
   "execution_count": 8,
   "metadata": {},
   "outputs": [
    {
     "name": "stdout",
     "output_type": "stream",
     "text": [
      "Effective window size : 1.000 (s)\n"
     ]
    },
    {
     "data": {
      "image/png": "[encoded data removed]",
      "text/plain": [
       "<Figure size 432x288 with 1 Axes>"
      ]
     },
     "metadata": {
      "needs_background": "light"
     },
     "output_type": "display_data"
    }
   ],
   "source": [
    "psds, freqs = psd(raw, tmin=44, tmax=47, fmax=30)\n",
    "psd_Average = np.average(psds, axis=0) ** 2\n",
    "plt.plot(freqs, psd_Average)\n",
    "plt.show()"
   ]
  },
  {
   "cell_type": "markdown",
   "metadata": {},
   "source": [
    "- entre 45 segundos e 48"
   ]
  },
  {
   "cell_type": "code",
   "execution_count": 9,
   "metadata": {},
   "outputs": [
    {
     "name": "stdout",
     "output_type": "stream",
     "text": [
      "Effective window size : 1.000 (s)\n"
     ]
    },
    {
     "data": {
      "image/png": "[encoded data removed]",
      "text/plain": [
       "<Figure size 432x288 with 1 Axes>"
      ]
     },
     "metadata": {
      "needs_background": "light"
     },
     "output_type": "display_data"
    }
   ],
   "source": [
    "psds, freqs = psd(raw, tmin=45, tmax=48, fmax=30)\n",
    "psd_Average = np.average(psds, axis=0) ** 2\n",
    "plt.plot(freqs, psd_Average)\n",
    "plt.show()"
   ]
  },
  {
   "cell_type": "markdown",
   "metadata": {},
   "source": [
    "- entre 46 segundos e 49"
   ]
  },
  {
   "cell_type": "code",
   "execution_count": 10,
   "metadata": {},
   "outputs": [
    {
     "name": "stdout",
     "output_type": "stream",
     "text": [
      "Effective window size : 1.000 (s)\n"
     ]
    },
    {
     "data": {
      "image/png": "[encoded data removed]",
      "text/plain": [
       "<Figure size 432x288 with 1 Axes>"
      ]
     },
     "metadata": {
      "needs_background": "light"
     },
     "output_type": "display_data"
    }
   ],
   "source": [
    "psds, freqs = psd(raw, tmin=46, tmax=49, fmax=30)\n",
    "psd_Average = np.average(psds, axis=0) ** 2\n",
    "plt.plot(freqs, psd_Average)\n",
    "plt.show()"
   ]
  },
  {
   "cell_type": "markdown",
   "metadata": {},
   "source": [
    "### Simulando transmissão dos dados"
   ]
  },
  {
   "cell_type": "code",
   "execution_count": 21,
   "metadata": {
    "scrolled": false
   },
   "outputs": [
    {
     "name": "stdout",
     "output_type": "stream",
     "text": [
      "0\n",
      "0\n",
      "0\n",
      "0\n",
      "0\n",
      "0\n",
      "0\n",
      "0\n",
      "0\n",
      "0\n",
      "0\n",
      "0\n",
      "0\n",
      "0\n",
      "0\n",
      "0\n",
      "0\n",
      "0\n",
      "0\n",
      "0\n",
      "0\n",
      "0\n",
      "0\n",
      "0\n",
      "0\n",
      "0\n",
      "0\n",
      "0\n",
      "0\n",
      "0\n",
      "0\n",
      "0\n",
      "0\n",
      "0\n",
      "0\n",
      "0\n",
      "0\n",
      "0\n",
      "0\n",
      "0\n",
      "0\n",
      "0\n",
      "0\n",
      "0\n",
      "0\n",
      "0\n",
      "0\n",
      "0\n",
      "0\n",
      "0\n",
      "0\n",
      "0\n",
      "0\n",
      "0\n",
      "0\n",
      "0\n",
      "0\n",
      "0\n",
      "96.62849495528626\n",
      "0\n",
      "0\n",
      "0\n",
      "0\n",
      "0\n",
      "0\n",
      "0\n",
      "0\n",
      "0\n",
      "0\n",
      "0\n",
      "0\n",
      "0\n",
      "0\n",
      "0\n",
      "0\n",
      "0\n",
      "0\n",
      "0\n",
      "0\n",
      "0\n",
      "0\n",
      "0\n",
      "0\n",
      "0\n",
      "0\n",
      "0\n",
      "0\n",
      "0\n",
      "0\n",
      "0\n",
      "0\n",
      "0\n",
      "0\n",
      "0\n",
      "0\n",
      "0\n",
      "0\n",
      "0\n",
      "0\n",
      "0\n",
      "0\n",
      "0\n",
      "0\n",
      "89.7249011596228\n",
      "69.19410549500932\n",
      "65.05541501761722\n",
      "0\n",
      "0\n",
      "0\n",
      "67.41708710917034\n",
      "0\n",
      "81.9767673463966\n",
      "77.59652258980086\n",
      "0\n",
      "95.59095964013213\n",
      "0\n",
      "0\n",
      "0\n",
      "0\n",
      "0\n",
      "0\n",
      "0\n",
      "0\n",
      "0\n",
      "0\n",
      "0\n",
      "0\n",
      "0\n",
      "0\n",
      "0\n",
      "0\n",
      "0\n",
      "0\n",
      "0\n",
      "0\n",
      "0\n",
      "0\n",
      "0\n",
      "0\n",
      "0\n",
      "0\n",
      "0\n",
      "0\n",
      "0\n",
      "0\n",
      "0\n",
      "0\n",
      "0\n",
      "0\n",
      "0\n",
      "0\n",
      "75.2832154366019\n",
      "77.76033526672404\n",
      "55.52722295686768\n",
      "96.60746805294679\n",
      "85.95303575313615\n",
      "0\n",
      "95.48601633492314\n",
      "91.37155728151365\n",
      "61.768535721967766\n",
      "78.48474549101036\n",
      "0\n",
      "0\n",
      "0\n",
      "64.54219128355484\n",
      "71.00023245705195\n",
      "0\n",
      "0\n",
      "0\n",
      "0\n",
      "90.46254252615934\n",
      "96.21095528239049\n",
      "88.55788206586779\n",
      "76.68418715331872\n",
      "0\n",
      "0\n",
      "0\n",
      "81.0634349703998\n",
      "48.339302823153815\n",
      "43.48907657937766\n",
      "57.592433143144014\n",
      "46.97335355486332\n",
      "39.4719910645751\n",
      "36.612328830427685\n",
      "0\n",
      "97.9400877021022\n",
      "0\n",
      "62.46794151000519\n",
      "68.8768139671595\n",
      "83.6515142769354\n",
      "0\n",
      "0\n",
      "0\n",
      "51.24181744084485\n",
      "51.68313641810447\n",
      "56.8821118365967\n",
      "95.62917688291608\n",
      "0\n",
      "0\n",
      "0\n",
      "73.25019890225911\n",
      "43.24652031927529\n",
      "22.494385271030758\n",
      "19.322264651411405\n",
      "20.163727566109138\n",
      "30.937998553612367\n",
      "30.583761824813973\n",
      "28.85991313262473\n",
      "17.735448208211416\n",
      "26.343243770932922\n",
      "34.09617180526569\n",
      "35.307547988309295\n",
      "36.91528140725889\n",
      "53.85308985182182\n",
      "0\n",
      "0\n",
      "0\n",
      "0\n",
      "24.943592707061704\n",
      "19.983096400578194\n",
      "23.50585673713756\n",
      "38.136823306342166\n",
      "0\n",
      "0\n",
      "0\n",
      "0\n",
      "0\n",
      "0\n",
      "0\n",
      "60.12630345390102\n",
      "32.372927150043374\n",
      "0\n",
      "0\n"
     ]
    }
   ],
   "source": [
    "tmin = 0;\n",
    "tmax = 0\n",
    "extra_points_buff = 0\n",
    "for data in eeg_data:\n",
    "    time.sleep(1/sample_rate)\n",
    "    tmax += 1\n",
    "    # aplica janelamento\n",
    "    if (tmax == sample_rate * buffer_size_in_secs):\n",
    "        process(raw, tmin/sample_rate, tmax/sample_rate)\n",
    "    elif (tmax > sample_rate * buffer_size_in_secs):\n",
    "        tmin += 1\n",
    "        extra_points_buff += 1\n",
    "        if (extra_points_buff == sample_rate * update_after_secs):\n",
    "            process(raw, tmin/sample_rate, tmax/sample_rate)\n",
    "            extra_points_buff = 0"
   ]
  },
  {
   "cell_type": "code",
   "execution_count": null,
   "metadata": {},
   "outputs": [],
   "source": []
  }
 ],
 "metadata": {
  "kernelspec": {
   "display_name": "Python 3",
   "language": "python",
   "name": "python3"
  },
  "language_info": {
   "codemirror_mode": {
    "name": "ipython",
    "version": 3
   },
   "file_extension": ".py",
   "mimetype": "text/x-python",
   "name": "python",
   "nbconvert_exporter": "python",
   "pygments_lexer": "ipython3",
   "version": "3.6.8"
  }
 },
 "nbformat": 4,
 "nbformat_minor": 2
}
